{
 "cells": [
  {
   "cell_type": "markdown",
   "id": "5cddf93a",
   "metadata": {},
   "source": [
    "FIRST STEP DATA CLEANING AND PREPARING THE DATASET"
   ]
  },
  {
   "cell_type": "markdown",
   "id": "23b8b03e",
   "metadata": {},
   "source": [
    "IMPORTING ALL THE REQUIRED LIBRARIES"
   ]
  },
  {
   "cell_type": "code",
   "execution_count": null,
   "id": "373b1e1d",
   "metadata": {},
   "outputs": [],
   "source": [
    "import pandas as pd\n",
    "import numpy as np\n",
    "import matplotlib.pyplot as plt\n",
    "import seaborn as sns"
   ]
  },
  {
   "cell_type": "markdown",
   "id": "8a62c3c2",
   "metadata": {},
   "source": [
    "IMPORTING ALL THE DATASET"
   ]
  },
  {
   "cell_type": "code",
   "execution_count": 34,
   "id": "78d115a7",
   "metadata": {},
   "outputs": [],
   "source": [
    "students_df = pd.read_csv(r'C:\\Users\\theja\\Desktop\\SOHAN K\\NEW ASSESMENT DA\\students.csv')\n",
    "activity_df = pd.read_csv(r'C:\\Users\\theja\\Desktop\\SOHAN K\\NEW ASSESMENT DA\\course_activity.csv')\n",
    "feedback_df = pd.read_csv(r'C:\\Users\\theja\\Desktop\\SOHAN K\\NEW ASSESMENT DA\\feedback.csv')\n",
    "\n"
   ]
  },
  {
   "cell_type": "markdown",
   "id": "b11a84d0",
   "metadata": {},
   "source": [
    "ENSURING THE NULL VALUE AND DATASET DETAILS"
   ]
  },
  {
   "cell_type": "code",
   "execution_count": 35,
   "id": "0722faf8",
   "metadata": {},
   "outputs": [
    {
     "name": "stdout",
     "output_type": "stream",
     "text": [
      "<class 'pandas.core.frame.DataFrame'>\n",
      "RangeIndex: 100 entries, 0 to 99\n",
      "Data columns (total 6 columns):\n",
      " #   Column          Non-Null Count  Dtype \n",
      "---  ------          --------------  ----- \n",
      " 0   Student_ID      100 non-null    object\n",
      " 1   Name            100 non-null    object\n",
      " 2   Age             100 non-null    int64 \n",
      " 3   Gender          100 non-null    object\n",
      " 4   Location        100 non-null    object\n",
      " 5   Enrolment_Date  100 non-null    object\n",
      "dtypes: int64(1), object(5)\n",
      "memory usage: 4.8+ KB\n"
     ]
    },
    {
     "data": {
      "text/plain": [
       "np.int64(0)"
      ]
     },
     "execution_count": 35,
     "metadata": {},
     "output_type": "execute_result"
    }
   ],
   "source": [
    "students_df.info()\n",
    "students_df.head()\n",
    "students_df.isnull().sum()\n",
    "students_df.duplicated().sum()\n"
   ]
  },
  {
   "cell_type": "code",
   "execution_count": 36,
   "id": "c29e1588",
   "metadata": {},
   "outputs": [
    {
     "name": "stdout",
     "output_type": "stream",
     "text": [
      "<class 'pandas.core.frame.DataFrame'>\n",
      "RangeIndex: 659 entries, 0 to 658\n",
      "Data columns (total 5 columns):\n",
      " #   Column                 Non-Null Count  Dtype  \n",
      "---  ------                 --------------  -----  \n",
      " 0   Student_ID             659 non-null    object \n",
      " 1   Course_ID              659 non-null    object \n",
      " 2   Date                   659 non-null    object \n",
      " 3   Time_Spent_Minutes     659 non-null    int64  \n",
      " 4   Completion_Percentage  659 non-null    float64\n",
      "dtypes: float64(1), int64(1), object(3)\n",
      "memory usage: 25.9+ KB\n"
     ]
    },
    {
     "data": {
      "text/plain": [
       "np.int64(0)"
      ]
     },
     "execution_count": 36,
     "metadata": {},
     "output_type": "execute_result"
    }
   ],
   "source": [
    "activity_df.info()\n",
    "activity_df.head()\n",
    "activity_df.isnull().sum()\n",
    "activity_df.duplicated().sum()"
   ]
  },
  {
   "cell_type": "code",
   "execution_count": 37,
   "id": "773450cd",
   "metadata": {},
   "outputs": [
    {
     "name": "stdout",
     "output_type": "stream",
     "text": [
      "<class 'pandas.core.frame.DataFrame'>\n",
      "RangeIndex: 80 entries, 0 to 79\n",
      "Data columns (total 4 columns):\n",
      " #   Column         Non-Null Count  Dtype \n",
      "---  ------         --------------  ----- \n",
      " 0   Student_ID     80 non-null     object\n",
      " 1   Course_ID      80 non-null     object\n",
      " 2   Rating         80 non-null     int64 \n",
      " 3   Feedback_Text  80 non-null     object\n",
      "dtypes: int64(1), object(3)\n",
      "memory usage: 2.6+ KB\n"
     ]
    },
    {
     "data": {
      "text/plain": [
       "np.int64(0)"
      ]
     },
     "execution_count": 37,
     "metadata": {},
     "output_type": "execute_result"
    }
   ],
   "source": [
    "feedback_df.info()\n",
    "feedback_df.head()\n",
    "feedback_df.isnull().sum()\n",
    "feedback_df.duplicated().sum()\n"
   ]
  },
  {
   "cell_type": "code",
   "execution_count": null,
   "id": "33e2c821",
   "metadata": {},
   "outputs": [
    {
     "data": {
      "text/html": [
       "<div>\n",
       "<style scoped>\n",
       "    .dataframe tbody tr th:only-of-type {\n",
       "        vertical-align: middle;\n",
       "    }\n",
       "\n",
       "    .dataframe tbody tr th {\n",
       "        vertical-align: top;\n",
       "    }\n",
       "\n",
       "    .dataframe thead th {\n",
       "        text-align: right;\n",
       "    }\n",
       "</style>\n",
       "<table border=\"1\" class=\"dataframe\">\n",
       "  <thead>\n",
       "    <tr style=\"text-align: right;\">\n",
       "      <th></th>\n",
       "      <th>Student_ID</th>\n",
       "      <th>Name</th>\n",
       "      <th>Age</th>\n",
       "      <th>Gender</th>\n",
       "      <th>Location</th>\n",
       "      <th>Enrolment_Date</th>\n",
       "    </tr>\n",
       "  </thead>\n",
       "  <tbody>\n",
       "    <tr>\n",
       "      <th>0</th>\n",
       "      <td>S001</td>\n",
       "      <td>Student_1</td>\n",
       "      <td>24</td>\n",
       "      <td>Female</td>\n",
       "      <td>Kolkata</td>\n",
       "      <td>24/11/2023</td>\n",
       "    </tr>\n",
       "    <tr>\n",
       "      <th>1</th>\n",
       "      <td>S002</td>\n",
       "      <td>Student_2</td>\n",
       "      <td>32</td>\n",
       "      <td>Other</td>\n",
       "      <td>Chennai</td>\n",
       "      <td>27/02/2023</td>\n",
       "    </tr>\n",
       "    <tr>\n",
       "      <th>2</th>\n",
       "      <td>S003</td>\n",
       "      <td>Student_3</td>\n",
       "      <td>28</td>\n",
       "      <td>Other</td>\n",
       "      <td>Mumbai</td>\n",
       "      <td>13/01/2023</td>\n",
       "    </tr>\n",
       "    <tr>\n",
       "      <th>3</th>\n",
       "      <td>S004</td>\n",
       "      <td>Student_4</td>\n",
       "      <td>25</td>\n",
       "      <td>Female</td>\n",
       "      <td>Bangalore</td>\n",
       "      <td>21/05/2023</td>\n",
       "    </tr>\n",
       "    <tr>\n",
       "      <th>4</th>\n",
       "      <td>S005</td>\n",
       "      <td>Student_5</td>\n",
       "      <td>24</td>\n",
       "      <td>Other</td>\n",
       "      <td>Delhi</td>\n",
       "      <td>06/05/2023</td>\n",
       "    </tr>\n",
       "  </tbody>\n",
       "</table>\n",
       "</div>"
      ],
      "text/plain": [
       "  Student_ID       Name  Age  Gender   Location Enrolment_Date\n",
       "0       S001  Student_1   24  Female    Kolkata     24/11/2023\n",
       "1       S002  Student_2   32   Other    Chennai     27/02/2023\n",
       "2       S003  Student_3   28   Other     Mumbai     13/01/2023\n",
       "3       S004  Student_4   25  Female  Bangalore     21/05/2023\n",
       "4       S005  Student_5   24   Other      Delhi     06/05/2023"
      ]
     },
     "execution_count": 40,
     "metadata": {},
     "output_type": "execute_result"
    }
   ],
   "source": [
    "import pandas as pd\n",
    "\n",
    "students_df = pd.read_csv(r'C:\\Users\\theja\\Desktop\\SOHAN K\\NEW ASSESMENT DA\\students.csv')\n",
    "\n",
    "students_df.head()\n"
   ]
  },
  {
   "cell_type": "markdown",
   "id": "776d042b",
   "metadata": {},
   "source": [
    "CONVERTING THE DATA TYPE"
   ]
  },
  {
   "cell_type": "code",
   "execution_count": 41,
   "id": "76885a8d",
   "metadata": {},
   "outputs": [],
   "source": [
    "students_df['Enrolment_Date'] = pd.to_datetime(students_df['Enrolment_Date'], dayfirst=True)\n"
   ]
  },
  {
   "cell_type": "code",
   "execution_count": 42,
   "id": "e8ffdda3",
   "metadata": {},
   "outputs": [
    {
     "data": {
      "text/html": [
       "<div>\n",
       "<style scoped>\n",
       "    .dataframe tbody tr th:only-of-type {\n",
       "        vertical-align: middle;\n",
       "    }\n",
       "\n",
       "    .dataframe tbody tr th {\n",
       "        vertical-align: top;\n",
       "    }\n",
       "\n",
       "    .dataframe thead th {\n",
       "        text-align: right;\n",
       "    }\n",
       "</style>\n",
       "<table border=\"1\" class=\"dataframe\">\n",
       "  <thead>\n",
       "    <tr style=\"text-align: right;\">\n",
       "      <th></th>\n",
       "      <th>Student_ID</th>\n",
       "      <th>Name</th>\n",
       "      <th>Age</th>\n",
       "      <th>Gender</th>\n",
       "      <th>Location</th>\n",
       "      <th>Enrolment_Date</th>\n",
       "    </tr>\n",
       "  </thead>\n",
       "  <tbody>\n",
       "    <tr>\n",
       "      <th>0</th>\n",
       "      <td>S001</td>\n",
       "      <td>Student_1</td>\n",
       "      <td>24</td>\n",
       "      <td>Female</td>\n",
       "      <td>Kolkata</td>\n",
       "      <td>2023-11-24</td>\n",
       "    </tr>\n",
       "    <tr>\n",
       "      <th>1</th>\n",
       "      <td>S002</td>\n",
       "      <td>Student_2</td>\n",
       "      <td>32</td>\n",
       "      <td>Other</td>\n",
       "      <td>Chennai</td>\n",
       "      <td>2023-02-27</td>\n",
       "    </tr>\n",
       "    <tr>\n",
       "      <th>2</th>\n",
       "      <td>S003</td>\n",
       "      <td>Student_3</td>\n",
       "      <td>28</td>\n",
       "      <td>Other</td>\n",
       "      <td>Mumbai</td>\n",
       "      <td>2023-01-13</td>\n",
       "    </tr>\n",
       "    <tr>\n",
       "      <th>3</th>\n",
       "      <td>S004</td>\n",
       "      <td>Student_4</td>\n",
       "      <td>25</td>\n",
       "      <td>Female</td>\n",
       "      <td>Bangalore</td>\n",
       "      <td>2023-05-21</td>\n",
       "    </tr>\n",
       "    <tr>\n",
       "      <th>4</th>\n",
       "      <td>S005</td>\n",
       "      <td>Student_5</td>\n",
       "      <td>24</td>\n",
       "      <td>Other</td>\n",
       "      <td>Delhi</td>\n",
       "      <td>2023-05-06</td>\n",
       "    </tr>\n",
       "  </tbody>\n",
       "</table>\n",
       "</div>"
      ],
      "text/plain": [
       "  Student_ID       Name  Age  Gender   Location Enrolment_Date\n",
       "0       S001  Student_1   24  Female    Kolkata     2023-11-24\n",
       "1       S002  Student_2   32   Other    Chennai     2023-02-27\n",
       "2       S003  Student_3   28   Other     Mumbai     2023-01-13\n",
       "3       S004  Student_4   25  Female  Bangalore     2023-05-21\n",
       "4       S005  Student_5   24   Other      Delhi     2023-05-06"
      ]
     },
     "execution_count": 42,
     "metadata": {},
     "output_type": "execute_result"
    }
   ],
   "source": [
    "students_df.head()"
   ]
  },
  {
   "cell_type": "code",
   "execution_count": 43,
   "id": "517be416",
   "metadata": {},
   "outputs": [
    {
     "data": {
      "text/html": [
       "<div>\n",
       "<style scoped>\n",
       "    .dataframe tbody tr th:only-of-type {\n",
       "        vertical-align: middle;\n",
       "    }\n",
       "\n",
       "    .dataframe tbody tr th {\n",
       "        vertical-align: top;\n",
       "    }\n",
       "\n",
       "    .dataframe thead th {\n",
       "        text-align: right;\n",
       "    }\n",
       "</style>\n",
       "<table border=\"1\" class=\"dataframe\">\n",
       "  <thead>\n",
       "    <tr style=\"text-align: right;\">\n",
       "      <th></th>\n",
       "      <th>Student_ID</th>\n",
       "      <th>Course_ID</th>\n",
       "      <th>Date</th>\n",
       "      <th>Time_Spent_Minutes</th>\n",
       "      <th>Completion_Percentage</th>\n",
       "    </tr>\n",
       "  </thead>\n",
       "  <tbody>\n",
       "    <tr>\n",
       "      <th>0</th>\n",
       "      <td>S001</td>\n",
       "      <td>PY202</td>\n",
       "      <td>05/01/2024</td>\n",
       "      <td>90</td>\n",
       "      <td>46.10</td>\n",
       "    </tr>\n",
       "    <tr>\n",
       "      <th>1</th>\n",
       "      <td>S001</td>\n",
       "      <td>DM101</td>\n",
       "      <td>28/01/2024</td>\n",
       "      <td>155</td>\n",
       "      <td>88.87</td>\n",
       "    </tr>\n",
       "    <tr>\n",
       "      <th>2</th>\n",
       "      <td>S001</td>\n",
       "      <td>UX303</td>\n",
       "      <td>28/01/2024</td>\n",
       "      <td>177</td>\n",
       "      <td>54.93</td>\n",
       "    </tr>\n",
       "    <tr>\n",
       "      <th>3</th>\n",
       "      <td>S002</td>\n",
       "      <td>PY202</td>\n",
       "      <td>03/02/2024</td>\n",
       "      <td>45</td>\n",
       "      <td>32.20</td>\n",
       "    </tr>\n",
       "    <tr>\n",
       "      <th>4</th>\n",
       "      <td>S002</td>\n",
       "      <td>UX303</td>\n",
       "      <td>15/03/2024</td>\n",
       "      <td>119</td>\n",
       "      <td>90.80</td>\n",
       "    </tr>\n",
       "  </tbody>\n",
       "</table>\n",
       "</div>"
      ],
      "text/plain": [
       "  Student_ID Course_ID        Date  Time_Spent_Minutes  Completion_Percentage\n",
       "0       S001     PY202  05/01/2024                  90                  46.10\n",
       "1       S001     DM101  28/01/2024                 155                  88.87\n",
       "2       S001     UX303  28/01/2024                 177                  54.93\n",
       "3       S002     PY202  03/02/2024                  45                  32.20\n",
       "4       S002     UX303  15/03/2024                 119                  90.80"
      ]
     },
     "execution_count": 43,
     "metadata": {},
     "output_type": "execute_result"
    }
   ],
   "source": [
    "course_df = pd.read_csv(r'C:\\Users\\theja\\Desktop\\SOHAN K\\NEW ASSESMENT DA\\course_activity.csv')\n",
    "course_df.head()\n"
   ]
  },
  {
   "cell_type": "code",
   "execution_count": 44,
   "id": "f27b8d13",
   "metadata": {},
   "outputs": [
    {
     "name": "stdout",
     "output_type": "stream",
     "text": [
      "<class 'pandas.core.frame.DataFrame'>\n",
      "RangeIndex: 659 entries, 0 to 658\n",
      "Data columns (total 5 columns):\n",
      " #   Column                 Non-Null Count  Dtype  \n",
      "---  ------                 --------------  -----  \n",
      " 0   Student_ID             659 non-null    object \n",
      " 1   Course_ID              659 non-null    object \n",
      " 2   Date                   659 non-null    object \n",
      " 3   Time_Spent_Minutes     659 non-null    int64  \n",
      " 4   Completion_Percentage  659 non-null    float64\n",
      "dtypes: float64(1), int64(1), object(3)\n",
      "memory usage: 25.9+ KB\n"
     ]
    },
    {
     "data": {
      "text/plain": [
       "Student_ID               0\n",
       "Course_ID                0\n",
       "Date                     0\n",
       "Time_Spent_Minutes       0\n",
       "Completion_Percentage    0\n",
       "dtype: int64"
      ]
     },
     "execution_count": 44,
     "metadata": {},
     "output_type": "execute_result"
    }
   ],
   "source": [
    "course_df.info()\n",
    "course_df.describe()\n",
    "course_df.isnull().sum()\n"
   ]
  },
  {
   "cell_type": "code",
   "execution_count": 45,
   "id": "9e16a864",
   "metadata": {},
   "outputs": [],
   "source": [
    "course_df['Date'] = pd.to_datetime(course_df['Date'], dayfirst=True)\n"
   ]
  },
  {
   "cell_type": "code",
   "execution_count": 46,
   "id": "7745eca6",
   "metadata": {},
   "outputs": [
    {
     "data": {
      "text/html": [
       "<div>\n",
       "<style scoped>\n",
       "    .dataframe tbody tr th:only-of-type {\n",
       "        vertical-align: middle;\n",
       "    }\n",
       "\n",
       "    .dataframe tbody tr th {\n",
       "        vertical-align: top;\n",
       "    }\n",
       "\n",
       "    .dataframe thead th {\n",
       "        text-align: right;\n",
       "    }\n",
       "</style>\n",
       "<table border=\"1\" class=\"dataframe\">\n",
       "  <thead>\n",
       "    <tr style=\"text-align: right;\">\n",
       "      <th></th>\n",
       "      <th>Student_ID</th>\n",
       "      <th>Course_ID</th>\n",
       "      <th>Rating</th>\n",
       "      <th>Feedback_Text</th>\n",
       "    </tr>\n",
       "  </thead>\n",
       "  <tbody>\n",
       "    <tr>\n",
       "      <th>0</th>\n",
       "      <td>S057</td>\n",
       "      <td>UX303</td>\n",
       "      <td>2</td>\n",
       "      <td>Too fast-paced</td>\n",
       "    </tr>\n",
       "    <tr>\n",
       "      <th>1</th>\n",
       "      <td>S063</td>\n",
       "      <td>PY202</td>\n",
       "      <td>2</td>\n",
       "      <td>Loved the examples</td>\n",
       "    </tr>\n",
       "    <tr>\n",
       "      <th>2</th>\n",
       "      <td>S022</td>\n",
       "      <td>PY202</td>\n",
       "      <td>4</td>\n",
       "      <td>Could be better</td>\n",
       "    </tr>\n",
       "    <tr>\n",
       "      <th>3</th>\n",
       "      <td>S011</td>\n",
       "      <td>PY202</td>\n",
       "      <td>5</td>\n",
       "      <td>Needs improvement</td>\n",
       "    </tr>\n",
       "    <tr>\n",
       "      <th>4</th>\n",
       "      <td>S073</td>\n",
       "      <td>WD404</td>\n",
       "      <td>4</td>\n",
       "      <td>Could be better</td>\n",
       "    </tr>\n",
       "  </tbody>\n",
       "</table>\n",
       "</div>"
      ],
      "text/plain": [
       "  Student_ID Course_ID  Rating       Feedback_Text\n",
       "0       S057     UX303       2      Too fast-paced\n",
       "1       S063     PY202       2  Loved the examples\n",
       "2       S022     PY202       4     Could be better\n",
       "3       S011     PY202       5   Needs improvement\n",
       "4       S073     WD404       4     Could be better"
      ]
     },
     "execution_count": 46,
     "metadata": {},
     "output_type": "execute_result"
    }
   ],
   "source": [
    "feedback_df = pd.read_csv(r'C:\\Users\\theja\\Desktop\\SOHAN K\\NEW ASSESMENT DA\\feedback.csv')\n",
    "feedback_df.head()\n"
   ]
  },
  {
   "cell_type": "code",
   "execution_count": 47,
   "id": "dcc217c9",
   "metadata": {},
   "outputs": [
    {
     "name": "stdout",
     "output_type": "stream",
     "text": [
      "<class 'pandas.core.frame.DataFrame'>\n",
      "RangeIndex: 80 entries, 0 to 79\n",
      "Data columns (total 4 columns):\n",
      " #   Column         Non-Null Count  Dtype \n",
      "---  ------         --------------  ----- \n",
      " 0   Student_ID     80 non-null     object\n",
      " 1   Course_ID      80 non-null     object\n",
      " 2   Rating         80 non-null     int64 \n",
      " 3   Feedback_Text  80 non-null     object\n",
      "dtypes: int64(1), object(3)\n",
      "memory usage: 2.6+ KB\n"
     ]
    },
    {
     "data": {
      "text/plain": [
       "Rating\n",
       "1    19\n",
       "4    18\n",
       "5    15\n",
       "3    15\n",
       "2    13\n",
       "Name: count, dtype: int64"
      ]
     },
     "execution_count": 47,
     "metadata": {},
     "output_type": "execute_result"
    }
   ],
   "source": [
    "feedback_df.info()\n",
    "feedback_df.isnull().sum()\n",
    "feedback_df['Rating'].value_counts()\n"
   ]
  },
  {
   "cell_type": "markdown",
   "id": "10aab56c",
   "metadata": {},
   "source": [
    "SECOND STEP IS IMPLEMENTING EXPLORATORY DATA ANALYSIS (EDA) PROCESS"
   ]
  },
  {
   "cell_type": "markdown",
   "id": "afd50283",
   "metadata": {},
   "source": [
    "1.What is the overall average completion rate across courses?"
   ]
  },
  {
   "cell_type": "code",
   "execution_count": null,
   "id": "2a87404f",
   "metadata": {},
   "outputs": [
    {
     "name": "stdout",
     "output_type": "stream",
     "text": [
      "The Overall Average Completion Rate: 54.78%\n"
     ]
    }
   ],
   "source": [
    "\n",
    "overall_avg_completion = course_df['Completion_Percentage'].mean()\n",
    "print(f\"The Overall Average Completion Rate: {overall_avg_completion:.2f}%\")\n"
   ]
  },
  {
   "cell_type": "markdown",
   "id": "952494d4",
   "metadata": {},
   "source": [
    "2.Which course has the highest and lowest average engagement time?"
   ]
  },
  {
   "cell_type": "code",
   "execution_count": null,
   "id": "ea4f14db",
   "metadata": {},
   "outputs": [
    {
     "name": "stdout",
     "output_type": "stream",
     "text": [
      "Course with Highest Avg Engagement Time:\n",
      "Course_ID\n",
      "DM101    102.427673\n",
      "Name: Time_Spent_Minutes, dtype: float64\n",
      "\n",
      "Course with Lowest Avg Engagement Time:\n",
      "Course_ID\n",
      "PY202    93.902439\n",
      "Name: Time_Spent_Minutes, dtype: float64\n"
     ]
    }
   ],
   "source": [
    "\n",
    "avg_time_per_course = course_df.groupby('Course_ID')['Time_Spent_Minutes'].mean().sort_values(ascending=False)\n",
    "\n",
    "print(\"Course with Highest Avg Engagement Time:\")\n",
    "print(avg_time_per_course.head(1))\n",
    "\n",
    "print(\"\\nCourse with Lowest Avg Engagement Time:\")\n",
    "print(avg_time_per_course.tail(1))\n"
   ]
  },
  {
   "cell_type": "markdown",
   "id": "997b8a60",
   "metadata": {},
   "source": [
    "3.How does engagement differ by age group or location?"
   ]
  },
  {
   "cell_type": "code",
   "execution_count": null,
   "id": "aae2b45e",
   "metadata": {},
   "outputs": [],
   "source": [
    "\n",
    "#defining age groups\n",
    "bins = [0, 18, 25, 35, 50, 100]\n",
    "labels = ['<18', '18-25', '26-35', '36-50', '50+']\n",
    "students_df['Age_Group'] = pd.cut(students_df['Age'], bins=bins, labels=labels)\n"
   ]
  },
  {
   "cell_type": "code",
   "execution_count": 51,
   "id": "a85f46fd",
   "metadata": {},
   "outputs": [],
   "source": [
    "merged_df = pd.merge(course_df, students_df, on='Student_ID')\n"
   ]
  },
  {
   "cell_type": "code",
   "execution_count": null,
   "id": "9169da07",
   "metadata": {},
   "outputs": [],
   "source": [
    "engagement_by_age = merged_df.groupby('Age_Group', observed=False)['Time_Spent_Minutes'].mean()\n",
    "engagement_by_location = merged_df.groupby('Location', observed=False)['Time_Spent_Minutes'].mean().sort_values(ascending=False)\n"
   ]
  },
  {
   "cell_type": "code",
   "execution_count": 53,
   "id": "f9f54ec2",
   "metadata": {},
   "outputs": [
    {
     "name": "stdout",
     "output_type": "stream",
     "text": [
      "Engagement by Age Group:\n",
      "Age_Group\n",
      "<18      107.102041\n",
      "18-25     99.675958\n",
      "26-35     95.362229\n",
      "36-50           NaN\n",
      "50+             NaN\n",
      "Name: Time_Spent_Minutes, dtype: float64\n",
      "\n",
      "Top 5 Locations by Engagement:\n",
      "Location\n",
      "Kolkata      104.384615\n",
      "Delhi        103.302857\n",
      "Bangalore     98.000000\n",
      "Mumbai        95.435484\n",
      "Chennai       90.946746\n",
      "Name: Time_Spent_Minutes, dtype: float64\n"
     ]
    },
    {
     "name": "stderr",
     "output_type": "stream",
     "text": [
      "C:\\Users\\theja\\AppData\\Local\\Temp\\ipykernel_19656\\723405005.py:2: FutureWarning: The default of observed=False is deprecated and will be changed to True in a future version of pandas. Pass observed=False to retain current behavior or observed=True to adopt the future default and silence this warning.\n",
      "  engagement_by_age = merged_df.groupby('Age_Group')['Time_Spent_Minutes'].mean()\n"
     ]
    }
   ],
   "source": [
    "# Engagement by Age Group\n",
    "engagement_by_age = merged_df.groupby('Age_Group')['Time_Spent_Minutes'].mean()\n",
    "print(\"Engagement by Age Group:\")\n",
    "print(engagement_by_age)\n",
    "\n",
    "# Engagement by Location\n",
    "engagement_by_location = merged_df.groupby('Location')['Time_Spent_Minutes'].mean().sort_values(ascending=False)\n",
    "print(\"\\nTop 5 Locations by Engagement:\")\n",
    "print(engagement_by_location.head(5))\n"
   ]
  },
  {
   "cell_type": "markdown",
   "id": "cc7f2d5d",
   "metadata": {},
   "source": [
    "4.what is the average feedback rating per course?"
   ]
  },
  {
   "cell_type": "code",
   "execution_count": null,
   "id": "f7fd7bdd",
   "metadata": {},
   "outputs": [
    {
     "name": "stdout",
     "output_type": "stream",
     "text": [
      "Average Feedback Rating per Course:\n",
      "Course_ID\n",
      "PY202    3.277778\n",
      "UX303    2.923077\n",
      "DM101    2.900000\n",
      "WD404    2.789474\n",
      "Name: Rating, dtype: float64\n"
     ]
    }
   ],
   "source": [
    "\n",
    "avg_rating_per_course = feedback_df.groupby('Course_ID')['Rating'].mean().sort_values(ascending=False)\n",
    "print(\"Average Feedback Rating per Course:\")\n",
    "print(avg_rating_per_course)\n"
   ]
  },
  {
   "cell_type": "markdown",
   "id": "b23abc9a",
   "metadata": {},
   "source": [
    "5.Is there a correlation between completion rate and feedback rating?"
   ]
  },
  {
   "cell_type": "code",
   "execution_count": null,
   "id": "dcb4e126",
   "metadata": {},
   "outputs": [
    {
     "name": "stdout",
     "output_type": "stream",
     "text": [
      "Correlation between Completion Rate and Feedback Rating:\n",
      "                       Completion_Percentage    Rating\n",
      "Completion_Percentage               1.000000 -0.051708\n",
      "Rating                             -0.051708  1.000000\n"
     ]
    }
   ],
   "source": [
    "\n",
    "merged_feedback = pd.merge(course_df, feedback_df, on=['Student_ID', 'Course_ID'])\n",
    "\n",
    "# Correlation\n",
    "correlation = merged_feedback[['Completion_Percentage', 'Rating']].corr()\n",
    "print(\"Correlation between Completion Rate and Feedback Rating:\")\n",
    "print(correlation)\n"
   ]
  },
  {
   "cell_type": "markdown",
   "id": "643ab7b3",
   "metadata": {},
   "source": [
    "6.Identify top 3 student segments based on engagement and satisfaction"
   ]
  },
  {
   "cell_type": "code",
   "execution_count": null,
   "id": "c81a4b5e",
   "metadata": {},
   "outputs": [],
   "source": [
    "\n",
    "# Merge all 3 datasets\n",
    "merged_all = pd.merge(merged_feedback, students_df, on='Student_ID')\n"
   ]
  },
  {
   "cell_type": "code",
   "execution_count": 57,
   "id": "aa92f55c",
   "metadata": {},
   "outputs": [
    {
     "name": "stdout",
     "output_type": "stream",
     "text": [
      "Top 3 Student Segments (Age Group + Location) by Engagement & Satisfaction:\n",
      "                     Time_Spent_Minutes    Rating  \\\n",
      "Age_Group Location                                  \n",
      "<18       Kolkata            113.666667  4.666667   \n",
      "18-25     Bangalore          126.071429  2.642857   \n",
      "          Mumbai             117.333333  3.666667   \n",
      "\n",
      "                     Engagement_Satisfaction_Score  \n",
      "Age_Group Location                                  \n",
      "<18       Kolkata                             22.0  \n",
      "18-25     Bangalore                           19.0  \n",
      "          Mumbai                              19.0  \n"
     ]
    },
    {
     "name": "stderr",
     "output_type": "stream",
     "text": [
      "C:\\Users\\theja\\AppData\\Local\\Temp\\ipykernel_19656\\3953840892.py:5: FutureWarning: The default of observed=False is deprecated and will be changed to True in a future version of pandas. Pass observed=False to retain current behavior or observed=True to adopt the future default and silence this warning.\n",
      "  segment_analysis = merged_all.groupby(['Age_Group', 'Location'])[['Time_Spent_Minutes', 'Rating']].mean()\n"
     ]
    }
   ],
   "source": [
    "# Merge all 3 datasets: course_activity, feedback, and students\n",
    "merged_all = pd.merge(merged_feedback, students_df, on='Student_ID')\n",
    "\n",
    "# Group by student segment (age group + location)\n",
    "segment_analysis = merged_all.groupby(['Age_Group', 'Location'])[['Time_Spent_Minutes', 'Rating']].mean()\n",
    "\n",
    "# Score based on both metrics\n",
    "segment_analysis['Engagement_Satisfaction_Score'] = (\n",
    "    segment_analysis['Time_Spent_Minutes'].rank(method='min') +\n",
    "    segment_analysis['Rating'].rank(method='min')\n",
    ")\n",
    "\n",
    "# Top 3 segments\n",
    "top_segments = segment_analysis.sort_values(by='Engagement_Satisfaction_Score', ascending=False).head(3)\n",
    "print(\"Top 3 Student Segments (Age Group + Location) by Engagement & Satisfaction:\")\n",
    "print(top_segments)\n"
   ]
  }
 ],
 "metadata": {
  "kernelspec": {
   "display_name": "Python 3",
   "language": "python",
   "name": "python3"
  },
  "language_info": {
   "codemirror_mode": {
    "name": "ipython",
    "version": 3
   },
   "file_extension": ".py",
   "mimetype": "text/x-python",
   "name": "python",
   "nbconvert_exporter": "python",
   "pygments_lexer": "ipython3",
   "version": "3.12.5"
  }
 },
 "nbformat": 4,
 "nbformat_minor": 5
}
